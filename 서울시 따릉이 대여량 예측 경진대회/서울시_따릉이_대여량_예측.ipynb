{
  "nbformat": 4,
  "nbformat_minor": 0,
  "metadata": {
    "colab": {
      "provenance": []
    },
    "kernelspec": {
      "name": "python3",
      "display_name": "Python 3"
    },
    "language_info": {
      "name": "python"
    }
  },
  "cells": [
    {
      "cell_type": "code",
      "execution_count": 1,
      "metadata": {
        "id": "CRS_hPeafG4L"
      },
      "outputs": [],
      "source": [
        "import numpy as np\n",
        "import pandas as pd"
      ]
    },
    {
      "cell_type": "code",
      "source": [
        "# 1. 데이터 불러오기"
      ],
      "metadata": {
        "id": "uYx-yooAgtDn"
      },
      "execution_count": 2,
      "outputs": []
    },
    {
      "cell_type": "code",
      "source": [
        "train = pd.read_csv('/content/drive/MyDrive/DayCon_Practice/따릉이/train.csv')\n",
        "test = pd.read_csv('/content/drive/MyDrive/DayCon_Practice/따릉이/test.csv')"
      ],
      "metadata": {
        "id": "soebzaD2gIfw"
      },
      "execution_count": 3,
      "outputs": []
    },
    {
      "cell_type": "code",
      "source": [
        "# 2. 데이터 확인"
      ],
      "metadata": {
        "id": "Uv5iC3K6gyMU"
      },
      "execution_count": 4,
      "outputs": []
    },
    {
      "cell_type": "code",
      "source": [
        "train.info()"
      ],
      "metadata": {
        "colab": {
          "base_uri": "https://localhost:8080/"
        },
        "id": "P9-dnJ7ggNcm",
        "outputId": "5604d909-571b-4cbb-b128-bc0ae8e25b33"
      },
      "execution_count": 5,
      "outputs": [
        {
          "output_type": "stream",
          "name": "stdout",
          "text": [
            "<class 'pandas.core.frame.DataFrame'>\n",
            "RangeIndex: 1459 entries, 0 to 1458\n",
            "Data columns (total 11 columns):\n",
            " #   Column                  Non-Null Count  Dtype  \n",
            "---  ------                  --------------  -----  \n",
            " 0   id                      1459 non-null   int64  \n",
            " 1   hour                    1459 non-null   int64  \n",
            " 2   hour_bef_temperature    1457 non-null   float64\n",
            " 3   hour_bef_precipitation  1457 non-null   float64\n",
            " 4   hour_bef_windspeed      1450 non-null   float64\n",
            " 5   hour_bef_humidity       1457 non-null   float64\n",
            " 6   hour_bef_visibility     1457 non-null   float64\n",
            " 7   hour_bef_ozone          1383 non-null   float64\n",
            " 8   hour_bef_pm10           1369 non-null   float64\n",
            " 9   hour_bef_pm2.5          1342 non-null   float64\n",
            " 10  count                   1459 non-null   float64\n",
            "dtypes: float64(9), int64(2)\n",
            "memory usage: 125.5 KB\n"
          ]
        }
      ]
    },
    {
      "cell_type": "code",
      "source": [
        "test.info()"
      ],
      "metadata": {
        "colab": {
          "base_uri": "https://localhost:8080/"
        },
        "id": "XrWUPgdfglYA",
        "outputId": "862d1694-975a-4f6f-c2b8-d60e6fd5c8ba"
      },
      "execution_count": 6,
      "outputs": [
        {
          "output_type": "stream",
          "name": "stdout",
          "text": [
            "<class 'pandas.core.frame.DataFrame'>\n",
            "RangeIndex: 715 entries, 0 to 714\n",
            "Data columns (total 10 columns):\n",
            " #   Column                  Non-Null Count  Dtype  \n",
            "---  ------                  --------------  -----  \n",
            " 0   id                      715 non-null    int64  \n",
            " 1   hour                    715 non-null    int64  \n",
            " 2   hour_bef_temperature    714 non-null    float64\n",
            " 3   hour_bef_precipitation  714 non-null    float64\n",
            " 4   hour_bef_windspeed      714 non-null    float64\n",
            " 5   hour_bef_humidity       714 non-null    float64\n",
            " 6   hour_bef_visibility     714 non-null    float64\n",
            " 7   hour_bef_ozone          680 non-null    float64\n",
            " 8   hour_bef_pm10           678 non-null    float64\n",
            " 9   hour_bef_pm2.5          679 non-null    float64\n",
            "dtypes: float64(8), int64(2)\n",
            "memory usage: 56.0 KB\n"
          ]
        }
      ]
    },
    {
      "cell_type": "code",
      "source": [
        "# 3. 결측치 처리"
      ],
      "metadata": {
        "id": "D3TvhOppg3qe"
      },
      "execution_count": 7,
      "outputs": []
    },
    {
      "cell_type": "code",
      "source": [
        "train.isnull().sum()"
      ],
      "metadata": {
        "colab": {
          "base_uri": "https://localhost:8080/"
        },
        "id": "UiHHteU6gTyl",
        "outputId": "fdcd6e12-f2e8-45bb-bcf6-9071b304db0f"
      },
      "execution_count": 8,
      "outputs": [
        {
          "output_type": "execute_result",
          "data": {
            "text/plain": [
              "id                          0\n",
              "hour                        0\n",
              "hour_bef_temperature        2\n",
              "hour_bef_precipitation      2\n",
              "hour_bef_windspeed          9\n",
              "hour_bef_humidity           2\n",
              "hour_bef_visibility         2\n",
              "hour_bef_ozone             76\n",
              "hour_bef_pm10              90\n",
              "hour_bef_pm2.5            117\n",
              "count                       0\n",
              "dtype: int64"
            ]
          },
          "metadata": {},
          "execution_count": 8
        }
      ]
    },
    {
      "cell_type": "code",
      "source": [
        "train.fillna(train.mean(),inplace=True)\n",
        "train.isnull().sum()"
      ],
      "metadata": {
        "colab": {
          "base_uri": "https://localhost:8080/"
        },
        "id": "23p54KJ0g6g0",
        "outputId": "04615f2c-360b-4454-fe9e-975686dab98a"
      },
      "execution_count": 9,
      "outputs": [
        {
          "output_type": "execute_result",
          "data": {
            "text/plain": [
              "id                        0\n",
              "hour                      0\n",
              "hour_bef_temperature      0\n",
              "hour_bef_precipitation    0\n",
              "hour_bef_windspeed        0\n",
              "hour_bef_humidity         0\n",
              "hour_bef_visibility       0\n",
              "hour_bef_ozone            0\n",
              "hour_bef_pm10             0\n",
              "hour_bef_pm2.5            0\n",
              "count                     0\n",
              "dtype: int64"
            ]
          },
          "metadata": {},
          "execution_count": 9
        }
      ]
    },
    {
      "cell_type": "code",
      "source": [
        "test.isnull().sum()"
      ],
      "metadata": {
        "colab": {
          "base_uri": "https://localhost:8080/"
        },
        "id": "9NR7xHAXgWMz",
        "outputId": "a326b2df-5255-4c0b-b409-a1d9536a68cd"
      },
      "execution_count": 10,
      "outputs": [
        {
          "output_type": "execute_result",
          "data": {
            "text/plain": [
              "id                         0\n",
              "hour                       0\n",
              "hour_bef_temperature       1\n",
              "hour_bef_precipitation     1\n",
              "hour_bef_windspeed         1\n",
              "hour_bef_humidity          1\n",
              "hour_bef_visibility        1\n",
              "hour_bef_ozone            35\n",
              "hour_bef_pm10             37\n",
              "hour_bef_pm2.5            36\n",
              "dtype: int64"
            ]
          },
          "metadata": {},
          "execution_count": 10
        }
      ]
    },
    {
      "cell_type": "code",
      "source": [
        "test.fillna(test.mean(),inplace=True)\n",
        "test.isnull().sum()"
      ],
      "metadata": {
        "colab": {
          "base_uri": "https://localhost:8080/"
        },
        "id": "P9y2aF9ugqJK",
        "outputId": "6607903c-5178-4c6c-820b-9e92562e71ec"
      },
      "execution_count": 11,
      "outputs": [
        {
          "output_type": "execute_result",
          "data": {
            "text/plain": [
              "id                        0\n",
              "hour                      0\n",
              "hour_bef_temperature      0\n",
              "hour_bef_precipitation    0\n",
              "hour_bef_windspeed        0\n",
              "hour_bef_humidity         0\n",
              "hour_bef_visibility       0\n",
              "hour_bef_ozone            0\n",
              "hour_bef_pm10             0\n",
              "hour_bef_pm2.5            0\n",
              "dtype: int64"
            ]
          },
          "metadata": {},
          "execution_count": 11
        }
      ]
    },
    {
      "cell_type": "code",
      "source": [
        "# 4. 입력 변수 종속 변수 분리"
      ],
      "metadata": {
        "id": "xNXaco5Vh0z_"
      },
      "execution_count": 12,
      "outputs": []
    },
    {
      "cell_type": "code",
      "source": [
        "X_train = train.drop('count',axis=1)\n",
        "y_train = train['count']\n",
        "X_test = test"
      ],
      "metadata": {
        "id": "zA74w-zyhJC0"
      },
      "execution_count": 13,
      "outputs": []
    },
    {
      "cell_type": "code",
      "source": [
        "# 5. 모델 불러오기"
      ],
      "metadata": {
        "id": "YkCkUXM1i2hH"
      },
      "execution_count": 14,
      "outputs": []
    },
    {
      "cell_type": "code",
      "source": [
        "from sklearn.tree import DecisionTreeRegressor\n",
        "from sklearn.ensemble import RandomForestRegressor\n",
        "import lightgbm as lgb\n",
        "import xgboost as xgb\n",
        "from sklearn.neighbors import KNeighborsRegressor"
      ],
      "metadata": {
        "id": "8SLnzD_hhy-1"
      },
      "execution_count": 15,
      "outputs": []
    },
    {
      "cell_type": "code",
      "source": [
        "# train_validation_split"
      ],
      "metadata": {
        "id": "PdKg0PQPQg_T"
      },
      "execution_count": 16,
      "outputs": []
    },
    {
      "cell_type": "code",
      "source": [
        "from sklearn.model_selection import train_test_split\n",
        "\n",
        "X_train, X_val, y_train, y_val = train_test_split(X_train, y_train, test_size=0.2, random_state=10)"
      ],
      "metadata": {
        "id": "3UYjRj6EN3me"
      },
      "execution_count": 17,
      "outputs": []
    },
    {
      "cell_type": "code",
      "source": [
        "models = {'DT': DecisionTreeRegressor(),\n",
        "          'RF': RandomForestRegressor(),\n",
        "          'LGB': lgb.LGBMRegressor(),\n",
        "          'XGB': xgb.XGBRegressor(),\n",
        "          'KNN': KNeighborsRegressor()}"
      ],
      "metadata": {
        "id": "m2Jv3I2GQtTr"
      },
      "execution_count": 18,
      "outputs": []
    },
    {
      "cell_type": "code",
      "source": [
        "from sklearn.metrics import mean_squared_error\n",
        "\n",
        "for model_name in models.keys():\n",
        "  model = models[model_name]\n",
        "  model.fit(X_train,y_train)\n",
        "  y_pred = model.predict(X_val)\n",
        "\n",
        "  RMSE = mean_squared_error(y_val, y_pred)**0.5\n",
        "  print(f'{model_name} RMSE: {RMSE}')"
      ],
      "metadata": {
        "colab": {
          "base_uri": "https://localhost:8080/"
        },
        "id": "FF5CTeOmATXm",
        "outputId": "1218f2e8-047b-4563-eaa5-1e99994c34ae"
      },
      "execution_count": 19,
      "outputs": [
        {
          "output_type": "stream",
          "name": "stdout",
          "text": [
            "DT RMSE: 46.803472825135\n",
            "RF RMSE: 41.70327593403349\n",
            "LGB RMSE: 40.951888829466725\n",
            "[13:12:40] WARNING: /workspace/src/objective/regression_obj.cu:152: reg:linear is now deprecated in favor of reg:squarederror.\n",
            "XGB RMSE: 43.49030918124216\n",
            "KNN RMSE: 80.05216278854238\n"
          ]
        }
      ]
    },
    {
      "cell_type": "code",
      "source": [
        "# 다시 훈련 데이터 전체 사용\n",
        "X_train = train.drop('count',axis=1)\n",
        "y_train = train['count']\n",
        "X_test = test"
      ],
      "metadata": {
        "id": "CA2bT0tBD0oL"
      },
      "execution_count": 20,
      "outputs": []
    },
    {
      "cell_type": "code",
      "source": [
        "#lgb - no tunning 제출\n",
        "model = lgb.LGBMRegressor()\n",
        "model.fit(X_train,y_train)\n",
        "y_test = model.predict(X_test)\n",
        "\n",
        "submission = pd.read_csv('/content/drive/MyDrive/DayCon_Practice/따릉이/submission.csv')\n",
        "submission['count'] = y_test\n",
        "submission.to_csv('lgb.csv',index=False)"
      ],
      "metadata": {
        "id": "Gg81AztxRUTB"
      },
      "execution_count": 21,
      "outputs": []
    },
    {
      "cell_type": "code",
      "source": [
        "#lgb - gridsearchCV tunning \n",
        "from sklearn.model_selection import GridSearchCV\n",
        "\n",
        "model = lgb.LGBMRegressor()\n",
        "parameters = {'num_leaves':[20,40,60,80,100], 'min_child_samples':[5,10,15],'max_depth':[-1,5,10,20],\n",
        "             'learning_rate':[0.05,0.1,0.2],'reg_alpha':[0,0.01,0.03]}\n",
        "\n",
        "reg = GridSearchCV(model,parameters,scoring='neg_mean_squared_error')\n",
        "reg.fit(X_train, y_train)\n",
        "print('final params', reg.best_params_)   # 최적의 파라미터 값 출력\n",
        "print('best score', reg.best_score_)"
      ],
      "metadata": {
        "colab": {
          "base_uri": "https://localhost:8080/"
        },
        "id": "ChbkaOMFBbbE",
        "outputId": "8bf67363-80ae-4e02-e3a9-8eee75fca549"
      },
      "execution_count": 22,
      "outputs": [
        {
          "output_type": "stream",
          "name": "stdout",
          "text": [
            "final params {'learning_rate': 0.1, 'max_depth': -1, 'min_child_samples': 5, 'num_leaves': 40, 'reg_alpha': 0.01}\n",
            "best score -1401.1138898865522\n"
          ]
        }
      ]
    },
    {
      "cell_type": "code",
      "source": [
        "#lgb - tunning 제출\n",
        "model = lgb.LGBMRegressor(learning_rate=0.1,max_depth=-1,min_child_samples=5,num_leaves=40,reg_alpha=0.01)\n",
        "model.fit(X_train,y_train)\n",
        "y_test = model.predict(X_test)\n",
        "\n",
        "submission = pd.read_csv('/content/drive/MyDrive/DayCon_Practice/따릉이/submission.csv')\n",
        "submission['count'] = y_test\n",
        "submission.to_csv('lgb_with_tunning.csv',index=False)"
      ],
      "metadata": {
        "id": "Ogu1k__kEKsn"
      },
      "execution_count": 23,
      "outputs": []
    },
    {
      "cell_type": "markdown",
      "source": [
        "## 0.8 LightGB + 0.2 XGB"
      ],
      "metadata": {
        "id": "2XKvLmo9rRiN"
      }
    },
    {
      "cell_type": "code",
      "source": [
        "# LightGB\n",
        "model = lgb.LGBMRegressor()\n",
        "model.fit(X_train,y_train)\n",
        "y_test_LGB = model.predict(X_test)"
      ],
      "metadata": {
        "id": "WV3qhW6Nqs6n"
      },
      "execution_count": 25,
      "outputs": []
    },
    {
      "cell_type": "code",
      "source": [
        "# XGB\n",
        "model = xgb.XGBRegressor()\n",
        "model.fit(X_train,y_train)\n",
        "y_test_XGB = model.predict(X_test)"
      ],
      "metadata": {
        "colab": {
          "base_uri": "https://localhost:8080/"
        },
        "id": "smpVMI6mrsRJ",
        "outputId": "c90b237c-fa22-4caf-f0cb-3b4514200d99"
      },
      "execution_count": 26,
      "outputs": [
        {
          "output_type": "stream",
          "name": "stdout",
          "text": [
            "[13:30:22] WARNING: /workspace/src/objective/regression_obj.cu:152: reg:linear is now deprecated in favor of reg:squarederror.\n"
          ]
        }
      ]
    },
    {
      "cell_type": "code",
      "source": [
        "# 0.8 LightGB + 0.2 XGB\n",
        "y_test = y_test_LGB * 0.8 + y_test_XGB * 0.2\n",
        "submission = pd.read_csv('/content/drive/MyDrive/DayCon_Practice/따릉이/submission.csv')\n",
        "submission['count'] = y_test\n",
        "submission.to_csv('0.8lgb_0.2xgb.csv',index=False)"
      ],
      "metadata": {
        "id": "FoJGh7Mjr3pZ"
      },
      "execution_count": 27,
      "outputs": []
    }
  ]
}